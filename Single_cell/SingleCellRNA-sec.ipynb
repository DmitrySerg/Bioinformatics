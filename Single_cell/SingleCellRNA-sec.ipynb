{
 "cells": [
  {
   "cell_type": "markdown",
   "metadata": {
    "deletable": true,
    "editable": true
   },
   "source": [
    "# Single Cell RNA-sec"
   ]
  },
  {
   "cell_type": "code",
   "execution_count": 15,
   "metadata": {
    "collapsed": true,
    "deletable": true,
    "editable": true
   },
   "outputs": [],
   "source": [
    "import warnings\n",
    "warnings.filterwarnings(\"ignore\")\n",
    "\n",
    "import sys\n",
    "sys.path.append('/Users/dmitrys/anaconda2/lib/python2.7/site-packages')\n",
    "import pandas as pd\n",
    "import numpy as np\n",
    "import matplotlib.pyplot as plt\n",
    "import scipy\n",
    "%matplotlib inline"
   ]
  },
  {
   "cell_type": "code",
   "execution_count": 2,
   "metadata": {
    "collapsed": false,
    "deletable": true,
    "editable": true
   },
   "outputs": [
    {
     "name": "stdout",
     "output_type": "stream",
     "text": [
      "Bioconductor.R            \u001b[34mPapers\u001b[m\u001b[m                    \u001b[34mfiltered_gene_bc_matrices\u001b[m\u001b[m\r\n",
      "CP-Group5.pdf             SingleCell.R              genes_tsne.csv\r\n",
      "\u001b[34mGRCh38\u001b[m\u001b[m                    SingleCellRNA-sec.ipynb   main.txt\r\n",
      "JackStrawPlot.png         TSNE.jpg                  singleCell.Robj\r\n",
      "MARKERS.csv               column_genes.csv          Описание.docx\r\n",
      "PCA_sc3.png               consensus.png\r\n",
      "PCElbowPlot.png           consensus2.png\r\n"
     ]
    }
   ],
   "source": [
    "! ls"
   ]
  },
  {
   "cell_type": "code",
   "execution_count": 97,
   "metadata": {
    "collapsed": false
   },
   "outputs": [
    {
     "name": "stdout",
     "output_type": "stream",
     "text": [
      "[master a0ca5b8] single cell\n",
      " 1 file changed, 714 insertions(+), 157 deletions(-)\n",
      "Counting objects: 4, done.\n",
      "Delta compression using up to 4 threads.\n",
      "Compressing objects: 100% (4/4), done.\n",
      "Writing objects: 100% (4/4), 3.70 KiB | 0 bytes/s, done.\n",
      "Total 4 (delta 2), reused 0 (delta 0)\n",
      "remote: Resolving deltas: 100% (2/2), completed with 2 local objects.\u001b[K\n",
      "To https://github.com/DmitrySerg/Bioinformatics.git\n",
      "   a72c81d..a0ca5b8  master -> master\n",
      "Branch master set up to track remote branch master from origin.\n"
     ]
    }
   ],
   "source": [
    "def commit():\n",
    "    !git add SingleCellRNA-sec.ipynb\n",
    "    !git commit -m \"single cell\"\n",
    "    !git push -u origin master\n",
    "commit()"
   ]
  },
  {
   "cell_type": "code",
   "execution_count": 8,
   "metadata": {
    "collapsed": true,
    "deletable": true,
    "editable": true
   },
   "outputs": [],
   "source": [
    "genes = pd.read_csv('GRCh38/genes.tsv', sep='\\t', header=None)\n",
    "barcodes = pd.read_csv('GRCh38/barcodes.tsv', sep='\\t', header=None)"
   ]
  },
  {
   "cell_type": "code",
   "execution_count": 9,
   "metadata": {
    "collapsed": false,
    "deletable": true,
    "editable": true
   },
   "outputs": [],
   "source": [
    "genes_tsne = pd.read_csv('MARKERS.csv', sep=' ')"
   ]
  },
  {
   "cell_type": "code",
   "execution_count": 11,
   "metadata": {
    "collapsed": false
   },
   "outputs": [
    {
     "data": {
      "text/html": [
       "<div>\n",
       "<style>\n",
       "    .dataframe thead tr:only-child th {\n",
       "        text-align: right;\n",
       "    }\n",
       "\n",
       "    .dataframe thead th {\n",
       "        text-align: left;\n",
       "    }\n",
       "\n",
       "    .dataframe tbody tr th {\n",
       "        vertical-align: top;\n",
       "    }\n",
       "</style>\n",
       "<table border=\"1\" class=\"dataframe\">\n",
       "  <thead>\n",
       "    <tr style=\"text-align: right;\">\n",
       "      <th></th>\n",
       "      <th>0</th>\n",
       "      <th>1</th>\n",
       "    </tr>\n",
       "  </thead>\n",
       "  <tbody>\n",
       "    <tr>\n",
       "      <th>0</th>\n",
       "      <td>ENSG00000243485</td>\n",
       "      <td>RP11-34P13.3</td>\n",
       "    </tr>\n",
       "    <tr>\n",
       "      <th>1</th>\n",
       "      <td>ENSG00000237613</td>\n",
       "      <td>FAM138A</td>\n",
       "    </tr>\n",
       "    <tr>\n",
       "      <th>2</th>\n",
       "      <td>ENSG00000186092</td>\n",
       "      <td>OR4F5</td>\n",
       "    </tr>\n",
       "    <tr>\n",
       "      <th>3</th>\n",
       "      <td>ENSG00000238009</td>\n",
       "      <td>RP11-34P13.7</td>\n",
       "    </tr>\n",
       "    <tr>\n",
       "      <th>4</th>\n",
       "      <td>ENSG00000239945</td>\n",
       "      <td>RP11-34P13.8</td>\n",
       "    </tr>\n",
       "  </tbody>\n",
       "</table>\n",
       "</div>"
      ],
      "text/plain": [
       "                 0             1\n",
       "0  ENSG00000243485  RP11-34P13.3\n",
       "1  ENSG00000237613       FAM138A\n",
       "2  ENSG00000186092         OR4F5\n",
       "3  ENSG00000238009  RP11-34P13.7\n",
       "4  ENSG00000239945  RP11-34P13.8"
      ]
     },
     "execution_count": 11,
     "metadata": {},
     "output_type": "execute_result"
    }
   ],
   "source": [
    "genes.head()"
   ]
  },
  {
   "cell_type": "code",
   "execution_count": 10,
   "metadata": {
    "collapsed": false
   },
   "outputs": [
    {
     "data": {
      "text/html": [
       "<div>\n",
       "<style>\n",
       "    .dataframe thead tr:only-child th {\n",
       "        text-align: right;\n",
       "    }\n",
       "\n",
       "    .dataframe thead th {\n",
       "        text-align: left;\n",
       "    }\n",
       "\n",
       "    .dataframe tbody tr th {\n",
       "        vertical-align: top;\n",
       "    }\n",
       "</style>\n",
       "<table border=\"1\" class=\"dataframe\">\n",
       "  <thead>\n",
       "    <tr style=\"text-align: right;\">\n",
       "      <th></th>\n",
       "      <th>p_val</th>\n",
       "      <th>avg_diff</th>\n",
       "      <th>pct.1</th>\n",
       "      <th>pct.2</th>\n",
       "      <th>cluster</th>\n",
       "      <th>gene</th>\n",
       "    </tr>\n",
       "  </thead>\n",
       "  <tbody>\n",
       "    <tr>\n",
       "      <th>LDHB</th>\n",
       "      <td>0.000000e+00</td>\n",
       "      <td>1.074780</td>\n",
       "      <td>0.946</td>\n",
       "      <td>0.559</td>\n",
       "      <td>0</td>\n",
       "      <td>LDHB</td>\n",
       "    </tr>\n",
       "    <tr>\n",
       "      <th>TRAC</th>\n",
       "      <td>0.000000e+00</td>\n",
       "      <td>0.922830</td>\n",
       "      <td>0.949</td>\n",
       "      <td>0.395</td>\n",
       "      <td>0</td>\n",
       "      <td>TRAC</td>\n",
       "    </tr>\n",
       "    <tr>\n",
       "      <th>CD3D</th>\n",
       "      <td>1.521852e-296</td>\n",
       "      <td>0.671165</td>\n",
       "      <td>0.912</td>\n",
       "      <td>0.371</td>\n",
       "      <td>0</td>\n",
       "      <td>CD3D</td>\n",
       "    </tr>\n",
       "    <tr>\n",
       "      <th>CD3E</th>\n",
       "      <td>4.021670e-258</td>\n",
       "      <td>0.737082</td>\n",
       "      <td>0.883</td>\n",
       "      <td>0.362</td>\n",
       "      <td>0</td>\n",
       "      <td>CD3E</td>\n",
       "    </tr>\n",
       "    <tr>\n",
       "      <th>LEF1</th>\n",
       "      <td>9.188565e-254</td>\n",
       "      <td>1.004448</td>\n",
       "      <td>0.554</td>\n",
       "      <td>0.067</td>\n",
       "      <td>0</td>\n",
       "      <td>LEF1</td>\n",
       "    </tr>\n",
       "  </tbody>\n",
       "</table>\n",
       "</div>"
      ],
      "text/plain": [
       "              p_val  avg_diff  pct.1  pct.2  cluster  gene\n",
       "LDHB   0.000000e+00  1.074780  0.946  0.559        0  LDHB\n",
       "TRAC   0.000000e+00  0.922830  0.949  0.395        0  TRAC\n",
       "CD3D  1.521852e-296  0.671165  0.912  0.371        0  CD3D\n",
       "CD3E  4.021670e-258  0.737082  0.883  0.362        0  CD3E\n",
       "LEF1  9.188565e-254  1.004448  0.554  0.067        0  LEF1"
      ]
     },
     "execution_count": 10,
     "metadata": {},
     "output_type": "execute_result"
    }
   ],
   "source": [
    "genes_tsne.head()"
   ]
  },
  {
   "cell_type": "code",
   "execution_count": 7,
   "metadata": {
    "collapsed": false,
    "deletable": true,
    "editable": true
   },
   "outputs": [],
   "source": [
    "for i in genes_tsne.cluster.unique():\n",
    "    genes_tsne[genes_tsne.cluster==i].reset_index(drop=True)[\"gene\"]\\\n",
    "        .to_csv(\"genes_cluster_{}.csv\".format(i), index=False, sep='\\n')"
   ]
  },
  {
   "cell_type": "code",
   "execution_count": 40,
   "metadata": {
    "collapsed": false,
    "deletable": true,
    "editable": true
   },
   "outputs": [
    {
     "data": {
      "text/plain": [
       "(33694, 4340, 5727695, 'coordinate', 'integer', 'general')"
      ]
     },
     "execution_count": 40,
     "metadata": {},
     "output_type": "execute_result"
    }
   ],
   "source": [
    "from scipy.io import mminfo,mmread\n",
    "mminfo('GRCh38/matrix.mtx')"
   ]
  },
  {
   "cell_type": "code",
   "execution_count": 41,
   "metadata": {
    "collapsed": false
   },
   "outputs": [],
   "source": [
    "expression = scipy.io.mmread('GRCh38/matrix.mtx').todense()"
   ]
  },
  {
   "cell_type": "code",
   "execution_count": 45,
   "metadata": {
    "collapsed": false
   },
   "outputs": [],
   "source": [
    "expression = pd.DataFrame(expression)"
   ]
  },
  {
   "cell_type": "code",
   "execution_count": 47,
   "metadata": {
    "collapsed": false
   },
   "outputs": [
    {
     "data": {
      "text/plain": [
       "((33694, 4340), (33694, 2), (4340, 1))"
      ]
     },
     "execution_count": 47,
     "metadata": {},
     "output_type": "execute_result"
    }
   ],
   "source": [
    "expression.shape, genes.shape, barcodes.shape"
   ]
  },
  {
   "cell_type": "code",
   "execution_count": 52,
   "metadata": {
    "collapsed": true
   },
   "outputs": [],
   "source": [
    "expression.index = genes[1].values"
   ]
  },
  {
   "cell_type": "code",
   "execution_count": 54,
   "metadata": {
    "collapsed": false
   },
   "outputs": [],
   "source": [
    "expression.columns = barcodes[0].values"
   ]
  },
  {
   "cell_type": "code",
   "execution_count": 189,
   "metadata": {
    "collapsed": false
   },
   "outputs": [
    {
     "data": {
      "text/html": [
       "<div>\n",
       "<style>\n",
       "    .dataframe thead tr:only-child th {\n",
       "        text-align: right;\n",
       "    }\n",
       "\n",
       "    .dataframe thead th {\n",
       "        text-align: left;\n",
       "    }\n",
       "\n",
       "    .dataframe tbody tr th {\n",
       "        vertical-align: top;\n",
       "    }\n",
       "</style>\n",
       "<table border=\"1\" class=\"dataframe\">\n",
       "  <thead>\n",
       "    <tr style=\"text-align: right;\">\n",
       "      <th></th>\n",
       "      <th>AAACCTGAGAAGGCCT-1</th>\n",
       "      <th>AAACCTGAGACAGACC-1</th>\n",
       "      <th>AAACCTGAGATAGTCA-1</th>\n",
       "      <th>AAACCTGAGCGCCTCA-1</th>\n",
       "      <th>AAACCTGAGGCATGGT-1</th>\n",
       "      <th>AAACCTGCAAGGTTCT-1</th>\n",
       "      <th>AAACCTGCAGGATTGG-1</th>\n",
       "      <th>AAACCTGCAGGCGATA-1</th>\n",
       "      <th>AAACCTGCATCCCATC-1</th>\n",
       "      <th>AAACCTGCATGAAGTA-1</th>\n",
       "      <th>...</th>\n",
       "      <th>TTTGGTTCACTTAAGC-1</th>\n",
       "      <th>TTTGGTTCAGGACGTA-1</th>\n",
       "      <th>TTTGGTTCATGCCTAA-1</th>\n",
       "      <th>TTTGGTTCATTGGCGC-1</th>\n",
       "      <th>TTTGGTTGTTATCACG-1</th>\n",
       "      <th>TTTGGTTTCGCTAGCG-1</th>\n",
       "      <th>TTTGTCACACTTAACG-1</th>\n",
       "      <th>TTTGTCACAGGTCCAC-1</th>\n",
       "      <th>TTTGTCAGTTAAGACA-1</th>\n",
       "      <th>TTTGTCATCCCAAGAT-1</th>\n",
       "    </tr>\n",
       "  </thead>\n",
       "  <tbody>\n",
       "    <tr>\n",
       "      <th>RP11-34P13.3</th>\n",
       "      <td>0</td>\n",
       "      <td>0</td>\n",
       "      <td>0</td>\n",
       "      <td>0</td>\n",
       "      <td>0</td>\n",
       "      <td>0</td>\n",
       "      <td>0</td>\n",
       "      <td>0</td>\n",
       "      <td>0</td>\n",
       "      <td>0</td>\n",
       "      <td>...</td>\n",
       "      <td>0</td>\n",
       "      <td>0</td>\n",
       "      <td>0</td>\n",
       "      <td>0</td>\n",
       "      <td>0</td>\n",
       "      <td>0</td>\n",
       "      <td>0</td>\n",
       "      <td>0</td>\n",
       "      <td>0</td>\n",
       "      <td>0</td>\n",
       "    </tr>\n",
       "    <tr>\n",
       "      <th>FAM138A</th>\n",
       "      <td>0</td>\n",
       "      <td>0</td>\n",
       "      <td>0</td>\n",
       "      <td>0</td>\n",
       "      <td>0</td>\n",
       "      <td>0</td>\n",
       "      <td>0</td>\n",
       "      <td>0</td>\n",
       "      <td>0</td>\n",
       "      <td>0</td>\n",
       "      <td>...</td>\n",
       "      <td>0</td>\n",
       "      <td>0</td>\n",
       "      <td>0</td>\n",
       "      <td>0</td>\n",
       "      <td>0</td>\n",
       "      <td>0</td>\n",
       "      <td>0</td>\n",
       "      <td>0</td>\n",
       "      <td>0</td>\n",
       "      <td>0</td>\n",
       "    </tr>\n",
       "    <tr>\n",
       "      <th>OR4F5</th>\n",
       "      <td>0</td>\n",
       "      <td>0</td>\n",
       "      <td>0</td>\n",
       "      <td>0</td>\n",
       "      <td>0</td>\n",
       "      <td>0</td>\n",
       "      <td>0</td>\n",
       "      <td>0</td>\n",
       "      <td>0</td>\n",
       "      <td>0</td>\n",
       "      <td>...</td>\n",
       "      <td>0</td>\n",
       "      <td>0</td>\n",
       "      <td>0</td>\n",
       "      <td>0</td>\n",
       "      <td>0</td>\n",
       "      <td>0</td>\n",
       "      <td>0</td>\n",
       "      <td>0</td>\n",
       "      <td>0</td>\n",
       "      <td>0</td>\n",
       "    </tr>\n",
       "    <tr>\n",
       "      <th>RP11-34P13.7</th>\n",
       "      <td>0</td>\n",
       "      <td>0</td>\n",
       "      <td>0</td>\n",
       "      <td>0</td>\n",
       "      <td>0</td>\n",
       "      <td>0</td>\n",
       "      <td>0</td>\n",
       "      <td>0</td>\n",
       "      <td>0</td>\n",
       "      <td>0</td>\n",
       "      <td>...</td>\n",
       "      <td>0</td>\n",
       "      <td>0</td>\n",
       "      <td>0</td>\n",
       "      <td>0</td>\n",
       "      <td>0</td>\n",
       "      <td>0</td>\n",
       "      <td>0</td>\n",
       "      <td>0</td>\n",
       "      <td>0</td>\n",
       "      <td>0</td>\n",
       "    </tr>\n",
       "    <tr>\n",
       "      <th>RP11-34P13.8</th>\n",
       "      <td>0</td>\n",
       "      <td>0</td>\n",
       "      <td>0</td>\n",
       "      <td>0</td>\n",
       "      <td>0</td>\n",
       "      <td>0</td>\n",
       "      <td>0</td>\n",
       "      <td>0</td>\n",
       "      <td>0</td>\n",
       "      <td>0</td>\n",
       "      <td>...</td>\n",
       "      <td>0</td>\n",
       "      <td>0</td>\n",
       "      <td>0</td>\n",
       "      <td>0</td>\n",
       "      <td>0</td>\n",
       "      <td>0</td>\n",
       "      <td>0</td>\n",
       "      <td>0</td>\n",
       "      <td>0</td>\n",
       "      <td>0</td>\n",
       "    </tr>\n",
       "  </tbody>\n",
       "</table>\n",
       "<p>5 rows × 4340 columns</p>\n",
       "</div>"
      ],
      "text/plain": [
       "              AAACCTGAGAAGGCCT-1  AAACCTGAGACAGACC-1  AAACCTGAGATAGTCA-1  \\\n",
       "RP11-34P13.3                   0                   0                   0   \n",
       "FAM138A                        0                   0                   0   \n",
       "OR4F5                          0                   0                   0   \n",
       "RP11-34P13.7                   0                   0                   0   \n",
       "RP11-34P13.8                   0                   0                   0   \n",
       "\n",
       "              AAACCTGAGCGCCTCA-1  AAACCTGAGGCATGGT-1  AAACCTGCAAGGTTCT-1  \\\n",
       "RP11-34P13.3                   0                   0                   0   \n",
       "FAM138A                        0                   0                   0   \n",
       "OR4F5                          0                   0                   0   \n",
       "RP11-34P13.7                   0                   0                   0   \n",
       "RP11-34P13.8                   0                   0                   0   \n",
       "\n",
       "              AAACCTGCAGGATTGG-1  AAACCTGCAGGCGATA-1  AAACCTGCATCCCATC-1  \\\n",
       "RP11-34P13.3                   0                   0                   0   \n",
       "FAM138A                        0                   0                   0   \n",
       "OR4F5                          0                   0                   0   \n",
       "RP11-34P13.7                   0                   0                   0   \n",
       "RP11-34P13.8                   0                   0                   0   \n",
       "\n",
       "              AAACCTGCATGAAGTA-1         ...          TTTGGTTCACTTAAGC-1  \\\n",
       "RP11-34P13.3                   0         ...                           0   \n",
       "FAM138A                        0         ...                           0   \n",
       "OR4F5                          0         ...                           0   \n",
       "RP11-34P13.7                   0         ...                           0   \n",
       "RP11-34P13.8                   0         ...                           0   \n",
       "\n",
       "              TTTGGTTCAGGACGTA-1  TTTGGTTCATGCCTAA-1  TTTGGTTCATTGGCGC-1  \\\n",
       "RP11-34P13.3                   0                   0                   0   \n",
       "FAM138A                        0                   0                   0   \n",
       "OR4F5                          0                   0                   0   \n",
       "RP11-34P13.7                   0                   0                   0   \n",
       "RP11-34P13.8                   0                   0                   0   \n",
       "\n",
       "              TTTGGTTGTTATCACG-1  TTTGGTTTCGCTAGCG-1  TTTGTCACACTTAACG-1  \\\n",
       "RP11-34P13.3                   0                   0                   0   \n",
       "FAM138A                        0                   0                   0   \n",
       "OR4F5                          0                   0                   0   \n",
       "RP11-34P13.7                   0                   0                   0   \n",
       "RP11-34P13.8                   0                   0                   0   \n",
       "\n",
       "              TTTGTCACAGGTCCAC-1  TTTGTCAGTTAAGACA-1  TTTGTCATCCCAAGAT-1  \n",
       "RP11-34P13.3                   0                   0                   0  \n",
       "FAM138A                        0                   0                   0  \n",
       "OR4F5                          0                   0                   0  \n",
       "RP11-34P13.7                   0                   0                   0  \n",
       "RP11-34P13.8                   0                   0                   0  \n",
       "\n",
       "[5 rows x 4340 columns]"
      ]
     },
     "execution_count": 189,
     "metadata": {},
     "output_type": "execute_result"
    }
   ],
   "source": [
    "expression.head(5)"
   ]
  },
  {
   "cell_type": "code",
   "execution_count": 190,
   "metadata": {
    "collapsed": false
   },
   "outputs": [],
   "source": [
    "DATA = genes_tsne.join(expression)"
   ]
  },
  {
   "cell_type": "code",
   "execution_count": 192,
   "metadata": {
    "collapsed": true
   },
   "outputs": [],
   "source": [
    "DATA.fillna(0, inplace=True)"
   ]
  },
  {
   "cell_type": "code",
   "execution_count": 193,
   "metadata": {
    "collapsed": false
   },
   "outputs": [
    {
     "data": {
      "text/html": [
       "<div>\n",
       "<style>\n",
       "    .dataframe thead tr:only-child th {\n",
       "        text-align: right;\n",
       "    }\n",
       "\n",
       "    .dataframe thead th {\n",
       "        text-align: left;\n",
       "    }\n",
       "\n",
       "    .dataframe tbody tr th {\n",
       "        vertical-align: top;\n",
       "    }\n",
       "</style>\n",
       "<table border=\"1\" class=\"dataframe\">\n",
       "  <thead>\n",
       "    <tr style=\"text-align: right;\">\n",
       "      <th></th>\n",
       "      <th>p_val</th>\n",
       "      <th>avg_diff</th>\n",
       "      <th>pct.1</th>\n",
       "      <th>pct.2</th>\n",
       "      <th>cluster</th>\n",
       "      <th>gene</th>\n",
       "      <th>AAACCTGAGAAGGCCT-1</th>\n",
       "      <th>AAACCTGAGACAGACC-1</th>\n",
       "      <th>AAACCTGAGATAGTCA-1</th>\n",
       "      <th>AAACCTGAGCGCCTCA-1</th>\n",
       "      <th>...</th>\n",
       "      <th>TTTGGTTCACTTAAGC-1</th>\n",
       "      <th>TTTGGTTCAGGACGTA-1</th>\n",
       "      <th>TTTGGTTCATGCCTAA-1</th>\n",
       "      <th>TTTGGTTCATTGGCGC-1</th>\n",
       "      <th>TTTGGTTGTTATCACG-1</th>\n",
       "      <th>TTTGGTTTCGCTAGCG-1</th>\n",
       "      <th>TTTGTCACACTTAACG-1</th>\n",
       "      <th>TTTGTCACAGGTCCAC-1</th>\n",
       "      <th>TTTGTCAGTTAAGACA-1</th>\n",
       "      <th>TTTGTCATCCCAAGAT-1</th>\n",
       "    </tr>\n",
       "  </thead>\n",
       "  <tbody>\n",
       "    <tr>\n",
       "      <th>A1BG</th>\n",
       "      <td>2.846924e-11</td>\n",
       "      <td>0.653947</td>\n",
       "      <td>0.719</td>\n",
       "      <td>0.167</td>\n",
       "      <td>5</td>\n",
       "      <td>A1BG</td>\n",
       "      <td>0.0</td>\n",
       "      <td>0.0</td>\n",
       "      <td>0.0</td>\n",
       "      <td>0.0</td>\n",
       "      <td>...</td>\n",
       "      <td>0.0</td>\n",
       "      <td>2.0</td>\n",
       "      <td>0.0</td>\n",
       "      <td>1.0</td>\n",
       "      <td>0.0</td>\n",
       "      <td>0.0</td>\n",
       "      <td>0.0</td>\n",
       "      <td>0.0</td>\n",
       "      <td>0.0</td>\n",
       "      <td>0.0</td>\n",
       "    </tr>\n",
       "    <tr>\n",
       "      <th>AAK1</th>\n",
       "      <td>7.539451e-74</td>\n",
       "      <td>0.472886</td>\n",
       "      <td>0.544</td>\n",
       "      <td>0.252</td>\n",
       "      <td>0</td>\n",
       "      <td>AAK1</td>\n",
       "      <td>0.0</td>\n",
       "      <td>0.0</td>\n",
       "      <td>0.0</td>\n",
       "      <td>0.0</td>\n",
       "      <td>...</td>\n",
       "      <td>0.0</td>\n",
       "      <td>0.0</td>\n",
       "      <td>1.0</td>\n",
       "      <td>0.0</td>\n",
       "      <td>0.0</td>\n",
       "      <td>1.0</td>\n",
       "      <td>1.0</td>\n",
       "      <td>5.0</td>\n",
       "      <td>0.0</td>\n",
       "      <td>0.0</td>\n",
       "    </tr>\n",
       "    <tr>\n",
       "      <th>AAMDC</th>\n",
       "      <td>1.590478e-11</td>\n",
       "      <td>0.301346</td>\n",
       "      <td>0.312</td>\n",
       "      <td>0.038</td>\n",
       "      <td>5</td>\n",
       "      <td>AAMDC</td>\n",
       "      <td>0.0</td>\n",
       "      <td>0.0</td>\n",
       "      <td>0.0</td>\n",
       "      <td>0.0</td>\n",
       "      <td>...</td>\n",
       "      <td>0.0</td>\n",
       "      <td>0.0</td>\n",
       "      <td>0.0</td>\n",
       "      <td>0.0</td>\n",
       "      <td>0.0</td>\n",
       "      <td>1.0</td>\n",
       "      <td>0.0</td>\n",
       "      <td>0.0</td>\n",
       "      <td>0.0</td>\n",
       "      <td>0.0</td>\n",
       "    </tr>\n",
       "    <tr>\n",
       "      <th>ABHD15</th>\n",
       "      <td>8.828331e-14</td>\n",
       "      <td>0.585090</td>\n",
       "      <td>0.438</td>\n",
       "      <td>0.024</td>\n",
       "      <td>5</td>\n",
       "      <td>ABHD15</td>\n",
       "      <td>0.0</td>\n",
       "      <td>0.0</td>\n",
       "      <td>0.0</td>\n",
       "      <td>0.0</td>\n",
       "      <td>...</td>\n",
       "      <td>0.0</td>\n",
       "      <td>0.0</td>\n",
       "      <td>0.0</td>\n",
       "      <td>0.0</td>\n",
       "      <td>0.0</td>\n",
       "      <td>0.0</td>\n",
       "      <td>0.0</td>\n",
       "      <td>0.0</td>\n",
       "      <td>0.0</td>\n",
       "      <td>0.0</td>\n",
       "    </tr>\n",
       "    <tr>\n",
       "      <th>ABHD17A1</th>\n",
       "      <td>1.654303e-29</td>\n",
       "      <td>0.463202</td>\n",
       "      <td>0.406</td>\n",
       "      <td>0.190</td>\n",
       "      <td>3</td>\n",
       "      <td>ABHD17A</td>\n",
       "      <td>0.0</td>\n",
       "      <td>0.0</td>\n",
       "      <td>0.0</td>\n",
       "      <td>0.0</td>\n",
       "      <td>...</td>\n",
       "      <td>0.0</td>\n",
       "      <td>0.0</td>\n",
       "      <td>0.0</td>\n",
       "      <td>0.0</td>\n",
       "      <td>0.0</td>\n",
       "      <td>0.0</td>\n",
       "      <td>0.0</td>\n",
       "      <td>0.0</td>\n",
       "      <td>0.0</td>\n",
       "      <td>0.0</td>\n",
       "    </tr>\n",
       "  </tbody>\n",
       "</table>\n",
       "<p>5 rows × 4346 columns</p>\n",
       "</div>"
      ],
      "text/plain": [
       "                 p_val  avg_diff  pct.1  pct.2  cluster     gene  \\\n",
       "A1BG      2.846924e-11  0.653947  0.719  0.167        5     A1BG   \n",
       "AAK1      7.539451e-74  0.472886  0.544  0.252        0     AAK1   \n",
       "AAMDC     1.590478e-11  0.301346  0.312  0.038        5    AAMDC   \n",
       "ABHD15    8.828331e-14  0.585090  0.438  0.024        5   ABHD15   \n",
       "ABHD17A1  1.654303e-29  0.463202  0.406  0.190        3  ABHD17A   \n",
       "\n",
       "          AAACCTGAGAAGGCCT-1  AAACCTGAGACAGACC-1  AAACCTGAGATAGTCA-1  \\\n",
       "A1BG                     0.0                 0.0                 0.0   \n",
       "AAK1                     0.0                 0.0                 0.0   \n",
       "AAMDC                    0.0                 0.0                 0.0   \n",
       "ABHD15                   0.0                 0.0                 0.0   \n",
       "ABHD17A1                 0.0                 0.0                 0.0   \n",
       "\n",
       "          AAACCTGAGCGCCTCA-1         ...          TTTGGTTCACTTAAGC-1  \\\n",
       "A1BG                     0.0         ...                         0.0   \n",
       "AAK1                     0.0         ...                         0.0   \n",
       "AAMDC                    0.0         ...                         0.0   \n",
       "ABHD15                   0.0         ...                         0.0   \n",
       "ABHD17A1                 0.0         ...                         0.0   \n",
       "\n",
       "          TTTGGTTCAGGACGTA-1  TTTGGTTCATGCCTAA-1  TTTGGTTCATTGGCGC-1  \\\n",
       "A1BG                     2.0                 0.0                 1.0   \n",
       "AAK1                     0.0                 1.0                 0.0   \n",
       "AAMDC                    0.0                 0.0                 0.0   \n",
       "ABHD15                   0.0                 0.0                 0.0   \n",
       "ABHD17A1                 0.0                 0.0                 0.0   \n",
       "\n",
       "          TTTGGTTGTTATCACG-1  TTTGGTTTCGCTAGCG-1  TTTGTCACACTTAACG-1  \\\n",
       "A1BG                     0.0                 0.0                 0.0   \n",
       "AAK1                     0.0                 1.0                 1.0   \n",
       "AAMDC                    0.0                 1.0                 0.0   \n",
       "ABHD15                   0.0                 0.0                 0.0   \n",
       "ABHD17A1                 0.0                 0.0                 0.0   \n",
       "\n",
       "          TTTGTCACAGGTCCAC-1  TTTGTCAGTTAAGACA-1  TTTGTCATCCCAAGAT-1  \n",
       "A1BG                     0.0                 0.0                 0.0  \n",
       "AAK1                     5.0                 0.0                 0.0  \n",
       "AAMDC                    0.0                 0.0                 0.0  \n",
       "ABHD15                   0.0                 0.0                 0.0  \n",
       "ABHD17A1                 0.0                 0.0                 0.0  \n",
       "\n",
       "[5 rows x 4346 columns]"
      ]
     },
     "execution_count": 193,
     "metadata": {},
     "output_type": "execute_result"
    }
   ],
   "source": [
    "DATA.head()"
   ]
  },
  {
   "cell_type": "code",
   "execution_count": 349,
   "metadata": {
    "collapsed": true
   },
   "outputs": [],
   "source": [
    "DATA = DATA[DATA.cluster!=5]"
   ]
  },
  {
   "cell_type": "code",
   "execution_count": 350,
   "metadata": {
    "collapsed": true
   },
   "outputs": [],
   "source": [
    "normal = genes_tsne.cluster.value_counts()\n",
    "normal = normal/sum(normal)\n",
    "#normal = dict(normal)"
   ]
  },
  {
   "cell_type": "code",
   "execution_count": 351,
   "metadata": {
    "collapsed": false
   },
   "outputs": [
    {
     "data": {
      "text/plain": [
       "5    1.351256\n",
       "4    1.239403\n",
       "1    1.215463\n",
       "3    1.080455\n",
       "2    1.074568\n",
       "0    1.038854\n",
       "Name: cluster, dtype: float64"
      ]
     },
     "execution_count": 351,
     "metadata": {},
     "output_type": "execute_result"
    }
   ],
   "source": [
    "normal+1"
   ]
  },
  {
   "cell_type": "code",
   "execution_count": 352,
   "metadata": {
    "collapsed": true
   },
   "outputs": [],
   "source": [
    "def getCluster(cell):\n",
    "    normalize=False\n",
    "    grp = DATA[[cell, \"cluster\"]][DATA[cell]!=0].groupby('cluster').sum()\n",
    "    \n",
    "    if normalize:\n",
    "        grp = grp.join(1 - normal)\n",
    "        cluster = np.argmax(grp[cell] * grp['cluster'])\n",
    "    else:\n",
    "        cluster = np.argmax(grp[cell])\n",
    "    return cluster"
   ]
  },
  {
   "cell_type": "code",
   "execution_count": 353,
   "metadata": {
    "collapsed": false
   },
   "outputs": [
    {
     "data": {
      "text/plain": [
       "1"
      ]
     },
     "execution_count": 353,
     "metadata": {},
     "output_type": "execute_result"
    }
   ],
   "source": [
    "getCluster(cell)"
   ]
  },
  {
   "cell_type": "code",
   "execution_count": 354,
   "metadata": {
    "collapsed": false,
    "deletable": true,
    "editable": true
   },
   "outputs": [],
   "source": [
    "FINAL = expression.T"
   ]
  },
  {
   "cell_type": "code",
   "execution_count": 355,
   "metadata": {
    "collapsed": false
   },
   "outputs": [
    {
     "data": {
      "text/html": [
       "<div>\n",
       "<style>\n",
       "    .dataframe thead tr:only-child th {\n",
       "        text-align: right;\n",
       "    }\n",
       "\n",
       "    .dataframe thead th {\n",
       "        text-align: left;\n",
       "    }\n",
       "\n",
       "    .dataframe tbody tr th {\n",
       "        vertical-align: top;\n",
       "    }\n",
       "</style>\n",
       "<table border=\"1\" class=\"dataframe\">\n",
       "  <thead>\n",
       "    <tr style=\"text-align: right;\">\n",
       "      <th></th>\n",
       "      <th>RP11-34P13.3</th>\n",
       "      <th>FAM138A</th>\n",
       "      <th>OR4F5</th>\n",
       "      <th>RP11-34P13.7</th>\n",
       "      <th>RP11-34P13.8</th>\n",
       "      <th>RP11-34P13.14</th>\n",
       "      <th>RP11-34P13.9</th>\n",
       "      <th>FO538757.3</th>\n",
       "      <th>FO538757.2</th>\n",
       "      <th>AP006222.2</th>\n",
       "      <th>...</th>\n",
       "      <th>AC007325.2</th>\n",
       "      <th>BX072566.1</th>\n",
       "      <th>AL354822.1</th>\n",
       "      <th>AC023491.2</th>\n",
       "      <th>AC004556.1</th>\n",
       "      <th>AC233755.2</th>\n",
       "      <th>AC233755.1</th>\n",
       "      <th>AC240274.1</th>\n",
       "      <th>AC213203.1</th>\n",
       "      <th>FAM231B</th>\n",
       "    </tr>\n",
       "  </thead>\n",
       "  <tbody>\n",
       "    <tr>\n",
       "      <th>AAACCTGAGAAGGCCT-1</th>\n",
       "      <td>0</td>\n",
       "      <td>0</td>\n",
       "      <td>0</td>\n",
       "      <td>0</td>\n",
       "      <td>0</td>\n",
       "      <td>0</td>\n",
       "      <td>0</td>\n",
       "      <td>0</td>\n",
       "      <td>0</td>\n",
       "      <td>0</td>\n",
       "      <td>...</td>\n",
       "      <td>0</td>\n",
       "      <td>0</td>\n",
       "      <td>0</td>\n",
       "      <td>0</td>\n",
       "      <td>0</td>\n",
       "      <td>0</td>\n",
       "      <td>0</td>\n",
       "      <td>0</td>\n",
       "      <td>0</td>\n",
       "      <td>0</td>\n",
       "    </tr>\n",
       "    <tr>\n",
       "      <th>AAACCTGAGACAGACC-1</th>\n",
       "      <td>0</td>\n",
       "      <td>0</td>\n",
       "      <td>0</td>\n",
       "      <td>0</td>\n",
       "      <td>0</td>\n",
       "      <td>0</td>\n",
       "      <td>0</td>\n",
       "      <td>0</td>\n",
       "      <td>0</td>\n",
       "      <td>0</td>\n",
       "      <td>...</td>\n",
       "      <td>0</td>\n",
       "      <td>0</td>\n",
       "      <td>0</td>\n",
       "      <td>0</td>\n",
       "      <td>0</td>\n",
       "      <td>0</td>\n",
       "      <td>0</td>\n",
       "      <td>0</td>\n",
       "      <td>0</td>\n",
       "      <td>0</td>\n",
       "    </tr>\n",
       "    <tr>\n",
       "      <th>AAACCTGAGATAGTCA-1</th>\n",
       "      <td>0</td>\n",
       "      <td>0</td>\n",
       "      <td>0</td>\n",
       "      <td>0</td>\n",
       "      <td>0</td>\n",
       "      <td>0</td>\n",
       "      <td>0</td>\n",
       "      <td>0</td>\n",
       "      <td>0</td>\n",
       "      <td>0</td>\n",
       "      <td>...</td>\n",
       "      <td>0</td>\n",
       "      <td>0</td>\n",
       "      <td>0</td>\n",
       "      <td>0</td>\n",
       "      <td>0</td>\n",
       "      <td>0</td>\n",
       "      <td>0</td>\n",
       "      <td>0</td>\n",
       "      <td>0</td>\n",
       "      <td>0</td>\n",
       "    </tr>\n",
       "    <tr>\n",
       "      <th>AAACCTGAGCGCCTCA-1</th>\n",
       "      <td>0</td>\n",
       "      <td>0</td>\n",
       "      <td>0</td>\n",
       "      <td>0</td>\n",
       "      <td>0</td>\n",
       "      <td>0</td>\n",
       "      <td>0</td>\n",
       "      <td>0</td>\n",
       "      <td>0</td>\n",
       "      <td>0</td>\n",
       "      <td>...</td>\n",
       "      <td>0</td>\n",
       "      <td>0</td>\n",
       "      <td>0</td>\n",
       "      <td>0</td>\n",
       "      <td>0</td>\n",
       "      <td>0</td>\n",
       "      <td>0</td>\n",
       "      <td>0</td>\n",
       "      <td>0</td>\n",
       "      <td>0</td>\n",
       "    </tr>\n",
       "    <tr>\n",
       "      <th>AAACCTGAGGCATGGT-1</th>\n",
       "      <td>0</td>\n",
       "      <td>0</td>\n",
       "      <td>0</td>\n",
       "      <td>0</td>\n",
       "      <td>0</td>\n",
       "      <td>0</td>\n",
       "      <td>0</td>\n",
       "      <td>0</td>\n",
       "      <td>0</td>\n",
       "      <td>0</td>\n",
       "      <td>...</td>\n",
       "      <td>0</td>\n",
       "      <td>0</td>\n",
       "      <td>0</td>\n",
       "      <td>0</td>\n",
       "      <td>0</td>\n",
       "      <td>0</td>\n",
       "      <td>0</td>\n",
       "      <td>0</td>\n",
       "      <td>0</td>\n",
       "      <td>0</td>\n",
       "    </tr>\n",
       "  </tbody>\n",
       "</table>\n",
       "<p>5 rows × 33694 columns</p>\n",
       "</div>"
      ],
      "text/plain": [
       "                    RP11-34P13.3  FAM138A  OR4F5  RP11-34P13.7  RP11-34P13.8  \\\n",
       "AAACCTGAGAAGGCCT-1             0        0      0             0             0   \n",
       "AAACCTGAGACAGACC-1             0        0      0             0             0   \n",
       "AAACCTGAGATAGTCA-1             0        0      0             0             0   \n",
       "AAACCTGAGCGCCTCA-1             0        0      0             0             0   \n",
       "AAACCTGAGGCATGGT-1             0        0      0             0             0   \n",
       "\n",
       "                    RP11-34P13.14  RP11-34P13.9  FO538757.3  FO538757.2  \\\n",
       "AAACCTGAGAAGGCCT-1              0             0           0           0   \n",
       "AAACCTGAGACAGACC-1              0             0           0           0   \n",
       "AAACCTGAGATAGTCA-1              0             0           0           0   \n",
       "AAACCTGAGCGCCTCA-1              0             0           0           0   \n",
       "AAACCTGAGGCATGGT-1              0             0           0           0   \n",
       "\n",
       "                    AP006222.2   ...     AC007325.2  BX072566.1  AL354822.1  \\\n",
       "AAACCTGAGAAGGCCT-1           0   ...              0           0           0   \n",
       "AAACCTGAGACAGACC-1           0   ...              0           0           0   \n",
       "AAACCTGAGATAGTCA-1           0   ...              0           0           0   \n",
       "AAACCTGAGCGCCTCA-1           0   ...              0           0           0   \n",
       "AAACCTGAGGCATGGT-1           0   ...              0           0           0   \n",
       "\n",
       "                    AC023491.2  AC004556.1  AC233755.2  AC233755.1  \\\n",
       "AAACCTGAGAAGGCCT-1           0           0           0           0   \n",
       "AAACCTGAGACAGACC-1           0           0           0           0   \n",
       "AAACCTGAGATAGTCA-1           0           0           0           0   \n",
       "AAACCTGAGCGCCTCA-1           0           0           0           0   \n",
       "AAACCTGAGGCATGGT-1           0           0           0           0   \n",
       "\n",
       "                    AC240274.1  AC213203.1  FAM231B  \n",
       "AAACCTGAGAAGGCCT-1           0           0        0  \n",
       "AAACCTGAGACAGACC-1           0           0        0  \n",
       "AAACCTGAGATAGTCA-1           0           0        0  \n",
       "AAACCTGAGCGCCTCA-1           0           0        0  \n",
       "AAACCTGAGGCATGGT-1           0           0        0  \n",
       "\n",
       "[5 rows x 33694 columns]"
      ]
     },
     "execution_count": 355,
     "metadata": {},
     "output_type": "execute_result"
    }
   ],
   "source": [
    "FINAL.head()"
   ]
  },
  {
   "cell_type": "code",
   "execution_count": 356,
   "metadata": {
    "collapsed": false
   },
   "outputs": [],
   "source": [
    "clusters_to_add = FINAL.reset_index()[\"index\"].apply(getCluster)"
   ]
  },
  {
   "cell_type": "code",
   "execution_count": 357,
   "metadata": {
    "collapsed": false
   },
   "outputs": [
    {
     "data": {
      "text/plain": [
       "1    1751\n",
       "0    1517\n",
       "4     899\n",
       "2     173\n",
       "Name: index, dtype: int64"
      ]
     },
     "execution_count": 357,
     "metadata": {},
     "output_type": "execute_result"
    }
   ],
   "source": [
    "clusters_to_add.value_counts()"
   ]
  },
  {
   "cell_type": "code",
   "execution_count": 364,
   "metadata": {
    "collapsed": false
   },
   "outputs": [],
   "source": [
    "clusters_to_add.index = FINAL.index"
   ]
  },
  {
   "cell_type": "code",
   "execution_count": 365,
   "metadata": {
    "collapsed": false
   },
   "outputs": [],
   "source": [
    "FINAL[\"cluster\"] = clusters_to_add"
   ]
  },
  {
   "cell_type": "code",
   "execution_count": 366,
   "metadata": {
    "collapsed": true
   },
   "outputs": [],
   "source": [
    "names = {0:\"CD4 T cells\", 1:\"LYZ, MS4A7 Monocytes\", 2:\"B cells\", 3:\"CD8 T cells\", \n",
    "4:\"FCGR3A Monocytes\"}"
   ]
  },
  {
   "cell_type": "markdown",
   "metadata": {},
   "source": [
    "# ML"
   ]
  },
  {
   "cell_type": "code",
   "execution_count": 396,
   "metadata": {
    "collapsed": true
   },
   "outputs": [],
   "source": [
    "from sklearn.model_selection import cross_val_score, train_test_split\n",
    "from sklearn.metrics import classification_report, accuracy_score, roc_curve, roc_auc_score, confusion_matrix, log_loss,auc\n",
    "from sklearn.linear_model import LogisticRegression,LogisticRegressionCV\n",
    "from sklearn.ensemble import RandomForestClassifier\n",
    "from sklearn.preprocessing import LabelEncoder, StandardScaler\n",
    "import seaborn as sns\n",
    "le = LabelEncoder()\n",
    "scaler = StandardScaler()"
   ]
  },
  {
   "cell_type": "code",
   "execution_count": 397,
   "metadata": {
    "code_folding": [
     0,
     2,
     10,
     29,
     35
    ],
    "collapsed": true
   },
   "outputs": [],
   "source": [
    "def get_accuracy_score(predictions, y):\n",
    "    return round(accuracy_score(map(np.argmax, predictions), y), 3)\n",
    "def plot_confusion(predictions, title, yval):\n",
    "    array = confusion_matrix(yval, predictions)\n",
    "    df_cm = pd.DataFrame(array)\n",
    "    plt.figure(figsize = (3,3))\n",
    "    sns.heatmap(df_cm, annot=True, fmt='g', cbar=False)\n",
    "    plt.ylabel(\"Actual\")\n",
    "    plt.xlabel(\"Predicted\")\n",
    "    plt.title(title);\n",
    "def plot_roc_curve(predictions, yval):\n",
    "    try:\n",
    "        preds = predictions[:,1]\n",
    "    except:\n",
    "        preds = np.array(predictions)\n",
    "    fpr, tpr, threshold = roc_curve(yval, preds)\n",
    "    roc_auc = auc(fpr, tpr)\n",
    "    with plt.rc_context({'xtick.color':'white', 'ytick.color':'white',\n",
    "                     'axes.labelcolor':'white'}):\n",
    "        plt.title('Receiver Operating Characteristic')\n",
    "        plt.plot(fpr, tpr, 'b', label = 'AUC = %0.2f' % roc_auc)\n",
    "        plt.legend(loc = 'lower right')\n",
    "        plt.plot([0, 1], [0, 1],'r--')\n",
    "        plt.xlim([0, 1])\n",
    "        plt.ylim([0, 1])\n",
    "        plt.ylabel('True Positive Rate')\n",
    "        plt.xlabel('False Positive Rate')\n",
    "        plt.show()\n",
    "        \n",
    "def importance(model, X):\n",
    "    ### возвращает отсортированные по абсолютному значению коэффициенты\n",
    "    coefs = pd.DataFrame(model.coef_.T, index=X.columns)\n",
    "    coefs.columns = [\"coef\"]\n",
    "    coefs[\"abs\"] = coefs.coef.apply(np.abs)\n",
    "    return coefs.sort_values(by=\"abs\", ascending=False).drop([\"abs\"], axis=1)\n",
    "def visualize_coefficients(classifier, feature_names, n_top_features=10):\n",
    "    \n",
    "    ### визулизирует влияние факторов на целевую переменную\n",
    "    \n",
    "    coef = classifier.coef_.ravel()\n",
    "    positive_coefficients = np.argsort(coef)[-n_top_features:]\n",
    "    negative_coefficients = np.argsort(coef)[:n_top_features]\n",
    "    interesting_coefficients = np.hstack([negative_coefficients, positive_coefficients])\n",
    "   \n",
    "    plt.figure(figsize=(15, 5))\n",
    "    colors = [\"red\" if c < 0 else \"blue\" for c in coef[interesting_coefficients]]\n",
    "    plt.bar(np.arange(2 * n_top_features), coef[interesting_coefficients], color=colors)\n",
    "    feature_names = np.array(feature_names)\n",
    "    plt.xticks(np.arange(1, 1 + 2 * n_top_features), feature_names[interesting_coefficients], rotation=60, ha=\"right\");"
   ]
  },
  {
   "cell_type": "code",
   "execution_count": 398,
   "metadata": {
    "collapsed": false
   },
   "outputs": [],
   "source": [
    "y = FINAL.cluster\n",
    "y = le.fit_transform(y)\n",
    "\n",
    "X_train, X_test, y_train, y_test = \\\n",
    "train_test_split(FINAL.drop([\"cluster\"], axis=1),y,test_size = 0.3,random_state=7)\n",
    "\n",
    "\n",
    "X_train = scaler.fit_transform(X_train)\n",
    "X_test = scaler.transform(X_test)"
   ]
  },
  {
   "cell_type": "code",
   "execution_count": 399,
   "metadata": {
    "collapsed": false
   },
   "outputs": [
    {
     "data": {
      "text/plain": [
       "(3038, 33694)"
      ]
     },
     "execution_count": 399,
     "metadata": {},
     "output_type": "execute_result"
    }
   ],
   "source": [
    "X_train.shape"
   ]
  },
  {
   "cell_type": "code",
   "execution_count": 400,
   "metadata": {
    "collapsed": false
   },
   "outputs": [
    {
     "data": {
      "text/plain": [
       "1    1751\n",
       "0    1517\n",
       "4     899\n",
       "2     173\n",
       "Name: cluster, dtype: int64"
      ]
     },
     "execution_count": 400,
     "metadata": {},
     "output_type": "execute_result"
    }
   ],
   "source": [
    "FINAL.cluster.value_counts()"
   ]
  },
  {
   "cell_type": "code",
   "execution_count": 401,
   "metadata": {
    "collapsed": false
   },
   "outputs": [
    {
     "data": {
      "text/plain": [
       "LogisticRegression(C=1.0, class_weight='balanced', dual=False,\n",
       "          fit_intercept=True, intercept_scaling=1, max_iter=100,\n",
       "          multi_class='ovr', n_jobs=1, penalty='l1', random_state=None,\n",
       "          solver='liblinear', tol=0.0001, verbose=0, warm_start=False)"
      ]
     },
     "execution_count": 401,
     "metadata": {},
     "output_type": "execute_result"
    }
   ],
   "source": [
    "logit = LogisticRegression(penalty=\"l1\", class_weight=\"balanced\")\n",
    "logit.fit(X_train, y_train)"
   ]
  },
  {
   "cell_type": "code",
   "execution_count": 402,
   "metadata": {
    "collapsed": false
   },
   "outputs": [
    {
     "data": {
      "image/png": "[encoded data removed]",
      "text/plain": [
       "<matplotlib.figure.Figure at 0x17db40510>"
      ]
     },
     "metadata": {},
     "output_type": "display_data"
    }
   ],
   "source": [
    "plot_confusion(logit.predict(X_test), \"logit\", y_test)"
   ]
  },
  {
   "cell_type": "code",
   "execution_count": 403,
   "metadata": {
    "collapsed": false
   },
   "outputs": [
    {
     "name": "stdout",
     "output_type": "stream",
     "text": [
      "             precision    recall  f1-score   support\n",
      "\n",
      "          0       0.95      0.88      0.91       481\n",
      "          1       0.81      0.90      0.85       491\n",
      "          2       0.64      0.62      0.63        47\n",
      "          4       0.76      0.70      0.73       283\n",
      "\n",
      "avg / total       0.84      0.84      0.84      1302\n",
      "\n"
     ]
    }
   ],
   "source": [
    "print(classification_report(le.inverse_transform(logit.predict(X_test)), \n",
    "                            le.inverse_transform(y_test)))"
   ]
  },
  {
   "cell_type": "code",
   "execution_count": null,
   "metadata": {
    "collapsed": true
   },
   "outputs": [],
   "source": []
  },
  {
   "cell_type": "code",
   "execution_count": null,
   "metadata": {
    "collapsed": true
   },
   "outputs": [],
   "source": []
  },
  {
   "cell_type": "code",
   "execution_count": null,
   "metadata": {
    "collapsed": true
   },
   "outputs": [],
   "source": []
  },
  {
   "cell_type": "code",
   "execution_count": 405,
   "metadata": {
    "code_folding": [
     2,
     14,
     15
    ],
    "collapsed": false
   },
   "outputs": [
    {
     "data": {
      "image/png": "[encoded data removed]",
      "text/plain": [
       "<matplotlib.figure.Figure at 0x181cea110>"
      ]
     },
     "metadata": {},
     "output_type": "display_data"
    },
    {
     "data": {
      "image/png": "[encoded data removed]",
      "text/plain": [
       "<matplotlib.figure.Figure at 0x113b7a4d0>"
      ]
     },
     "metadata": {},
     "output_type": "display_data"
    },
    {
     "data": {
      "image/png": "[encoded data removed]",
      "text/plain": [
       "<matplotlib.figure.Figure at 0x181cdc210>"
      ]
     },
     "metadata": {},
     "output_type": "display_data"
    },
    {
     "data": {
      "image/png": "[encoded data removed]",
      "text/plain": [
       "<matplotlib.figure.Figure at 0x174a79b50>"
      ]
     },
     "metadata": {},
     "output_type": "display_data"
    }
   ],
   "source": [
    "titles = ['CD4 T cells', 'LYZ, MS4A7 Monocytes', 'B cells', 'FCGR3A Monocytes']\n",
    "\n",
    "def visualize_coefficients(coef, feature_names, title, plot_num, n_top_features=10):\n",
    "    interesting_coefficients = np.argsort(coef)[-n_top_features:]\n",
    "    \n",
    "    plt.figure(figsize=(5, 20))\n",
    "    plt.subplot(510+plot_num+1)\n",
    "    colors = [\"blue\" for c in coef[interesting_coefficients]]\n",
    "    plt.barh(np.arange(n_top_features), coef[interesting_coefficients], color=colors)\n",
    "    feature_names = np.array(feature_names)\n",
    "    plt.yticks(np.arange(0, 1 + n_top_features), \n",
    "               feature_names[interesting_coefficients], rotation=0, ha=\"right\", fontsize=14);\n",
    "    plt.title(title)\n",
    "\n",
    "for i in range(4):\n",
    "    visualize_coefficients(logit.coef_[i,:], FINAL.drop([\"cluster\"], axis=1).columns,\n",
    "                      title=titles[i], plot_num=i)"
   ]
  },
  {
   "cell_type": "code",
   "execution_count": null,
   "metadata": {
    "collapsed": true
   },
   "outputs": [],
   "source": []
  }
 ],
 "metadata": {
  "anaconda-cloud": {},
  "kernelspec": {
   "display_name": "Python 2",
   "language": "python",
   "name": "python2"
  },
  "language_info": {
   "codemirror_mode": {
    "name": "ipython",
    "version": 2
   },
   "file_extension": ".py",
   "mimetype": "text/x-python",
   "name": "python",
   "nbconvert_exporter": "python",
   "pygments_lexer": "ipython2",
   "version": "2.7.12"
  }
 },
 "nbformat": 4,
 "nbformat_minor": 0
}
