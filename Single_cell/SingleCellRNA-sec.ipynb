{
 "cells": [
  {
   "cell_type": "markdown",
   "metadata": {
    "deletable": true,
    "editable": true
   },
   "source": [
    "# Single Cell RNA-sec"
   ]
  },
  {
   "cell_type": "code",
   "execution_count": 15,
   "metadata": {
    "collapsed": true,
    "deletable": true,
    "editable": true
   },
   "outputs": [],
   "source": [
    "import warnings\n",
    "warnings.filterwarnings(\"ignore\")\n",
    "\n",
    "import sys\n",
    "sys.path.append('/Users/dmitrys/anaconda2/lib/python2.7/site-packages')\n",
    "import pandas as pd\n",
    "import numpy as np\n",
    "import matplotlib.pyplot as plt\n",
    "import scipy\n",
    "%matplotlib inline"
   ]
  },
  {
   "cell_type": "code",
   "execution_count": 2,
   "metadata": {
    "collapsed": false,
    "deletable": true,
    "editable": true
   },
   "outputs": [
    {
     "name": "stdout",
     "output_type": "stream",
     "text": [
      "Bioconductor.R            \u001b[34mPapers\u001b[m\u001b[m                    \u001b[34mfiltered_gene_bc_matrices\u001b[m\u001b[m\r\n",
      "CP-Group5.pdf             SingleCell.R              genes_tsne.csv\r\n",
      "\u001b[34mGRCh38\u001b[m\u001b[m                    SingleCellRNA-sec.ipynb   main.txt\r\n",
      "JackStrawPlot.png         TSNE.jpg                  singleCell.Robj\r\n",
      "MARKERS.csv               column_genes.csv          Описание.docx\r\n",
      "PCA_sc3.png               consensus.png\r\n",
      "PCElbowPlot.png           consensus2.png\r\n"
     ]
    }
   ],
   "source": [
    "! ls"
   ]
  },
  {
   "cell_type": "code",
   "execution_count": 8,
   "metadata": {
    "collapsed": true,
    "deletable": true,
    "editable": true
   },
   "outputs": [],
   "source": [
    "genes = pd.read_csv('GRCh38/genes.tsv', sep='\\t', header=None)\n",
    "barcodes = pd.read_csv('GRCh38/barcodes.tsv', sep='\\t', header=None)"
   ]
  },
  {
   "cell_type": "code",
   "execution_count": 9,
   "metadata": {
    "collapsed": false,
    "deletable": true,
    "editable": true
   },
   "outputs": [],
   "source": [
    "genes_tsne = pd.read_csv('MARKERS.csv', sep=' ')"
   ]
  },
  {
   "cell_type": "code",
   "execution_count": 11,
   "metadata": {
    "collapsed": false
   },
   "outputs": [
    {
     "data": {
      "text/html": [
       "<div>\n",
       "<style>\n",
       "    .dataframe thead tr:only-child th {\n",
       "        text-align: right;\n",
       "    }\n",
       "\n",
       "    .dataframe thead th {\n",
       "        text-align: left;\n",
       "    }\n",
       "\n",
       "    .dataframe tbody tr th {\n",
       "        vertical-align: top;\n",
       "    }\n",
       "</style>\n",
       "<table border=\"1\" class=\"dataframe\">\n",
       "  <thead>\n",
       "    <tr style=\"text-align: right;\">\n",
       "      <th></th>\n",
       "      <th>0</th>\n",
       "      <th>1</th>\n",
       "    </tr>\n",
       "  </thead>\n",
       "  <tbody>\n",
       "    <tr>\n",
       "      <th>0</th>\n",
       "      <td>ENSG00000243485</td>\n",
       "      <td>RP11-34P13.3</td>\n",
       "    </tr>\n",
       "    <tr>\n",
       "      <th>1</th>\n",
       "      <td>ENSG00000237613</td>\n",
       "      <td>FAM138A</td>\n",
       "    </tr>\n",
       "    <tr>\n",
       "      <th>2</th>\n",
       "      <td>ENSG00000186092</td>\n",
       "      <td>OR4F5</td>\n",
       "    </tr>\n",
       "    <tr>\n",
       "      <th>3</th>\n",
       "      <td>ENSG00000238009</td>\n",
       "      <td>RP11-34P13.7</td>\n",
       "    </tr>\n",
       "    <tr>\n",
       "      <th>4</th>\n",
       "      <td>ENSG00000239945</td>\n",
       "      <td>RP11-34P13.8</td>\n",
       "    </tr>\n",
       "  </tbody>\n",
       "</table>\n",
       "</div>"
      ],
      "text/plain": [
       "                 0             1\n",
       "0  ENSG00000243485  RP11-34P13.3\n",
       "1  ENSG00000237613       FAM138A\n",
       "2  ENSG00000186092         OR4F5\n",
       "3  ENSG00000238009  RP11-34P13.7\n",
       "4  ENSG00000239945  RP11-34P13.8"
      ]
     },
     "execution_count": 11,
     "metadata": {},
     "output_type": "execute_result"
    }
   ],
   "source": [
    "genes.head()"
   ]
  },
  {
   "cell_type": "code",
   "execution_count": 10,
   "metadata": {
    "collapsed": false
   },
   "outputs": [
    {
     "data": {
      "text/html": [
       "<div>\n",
       "<style>\n",
       "    .dataframe thead tr:only-child th {\n",
       "        text-align: right;\n",
       "    }\n",
       "\n",
       "    .dataframe thead th {\n",
       "        text-align: left;\n",
       "    }\n",
       "\n",
       "    .dataframe tbody tr th {\n",
       "        vertical-align: top;\n",
       "    }\n",
       "</style>\n",
       "<table border=\"1\" class=\"dataframe\">\n",
       "  <thead>\n",
       "    <tr style=\"text-align: right;\">\n",
       "      <th></th>\n",
       "      <th>p_val</th>\n",
       "      <th>avg_diff</th>\n",
       "      <th>pct.1</th>\n",
       "      <th>pct.2</th>\n",
       "      <th>cluster</th>\n",
       "      <th>gene</th>\n",
       "    </tr>\n",
       "  </thead>\n",
       "  <tbody>\n",
       "    <tr>\n",
       "      <th>LDHB</th>\n",
       "      <td>0.000000e+00</td>\n",
       "      <td>1.074780</td>\n",
       "      <td>0.946</td>\n",
       "      <td>0.559</td>\n",
       "      <td>0</td>\n",
       "      <td>LDHB</td>\n",
       "    </tr>\n",
       "    <tr>\n",
       "      <th>TRAC</th>\n",
       "      <td>0.000000e+00</td>\n",
       "      <td>0.922830</td>\n",
       "      <td>0.949</td>\n",
       "      <td>0.395</td>\n",
       "      <td>0</td>\n",
       "      <td>TRAC</td>\n",
       "    </tr>\n",
       "    <tr>\n",
       "      <th>CD3D</th>\n",
       "      <td>1.521852e-296</td>\n",
       "      <td>0.671165</td>\n",
       "      <td>0.912</td>\n",
       "      <td>0.371</td>\n",
       "      <td>0</td>\n",
       "      <td>CD3D</td>\n",
       "    </tr>\n",
       "    <tr>\n",
       "      <th>CD3E</th>\n",
       "      <td>4.021670e-258</td>\n",
       "      <td>0.737082</td>\n",
       "      <td>0.883</td>\n",
       "      <td>0.362</td>\n",
       "      <td>0</td>\n",
       "      <td>CD3E</td>\n",
       "    </tr>\n",
       "    <tr>\n",
       "      <th>LEF1</th>\n",
       "      <td>9.188565e-254</td>\n",
       "      <td>1.004448</td>\n",
       "      <td>0.554</td>\n",
       "      <td>0.067</td>\n",
       "      <td>0</td>\n",
       "      <td>LEF1</td>\n",
       "    </tr>\n",
       "  </tbody>\n",
       "</table>\n",
       "</div>"
      ],
      "text/plain": [
       "              p_val  avg_diff  pct.1  pct.2  cluster  gene\n",
       "LDHB   0.000000e+00  1.074780  0.946  0.559        0  LDHB\n",
       "TRAC   0.000000e+00  0.922830  0.949  0.395        0  TRAC\n",
       "CD3D  1.521852e-296  0.671165  0.912  0.371        0  CD3D\n",
       "CD3E  4.021670e-258  0.737082  0.883  0.362        0  CD3E\n",
       "LEF1  9.188565e-254  1.004448  0.554  0.067        0  LEF1"
      ]
     },
     "execution_count": 10,
     "metadata": {},
     "output_type": "execute_result"
    }
   ],
   "source": [
    "genes_tsne.head()"
   ]
  },
  {
   "cell_type": "code",
   "execution_count": 7,
   "metadata": {
    "collapsed": false,
    "deletable": true,
    "editable": true
   },
   "outputs": [],
   "source": [
    "for i in genes_tsne.cluster.unique():\n",
    "    genes_tsne[genes_tsne.cluster==i].reset_index(drop=True)[\"gene\"]\\\n",
    "        .to_csv(\"genes_cluster_{}.csv\".format(i), index=False, sep='\\n')"
   ]
  },
  {
   "cell_type": "code",
   "execution_count": 40,
   "metadata": {
    "collapsed": false,
    "deletable": true,
    "editable": true
   },
   "outputs": [
    {
     "data": {
      "text/plain": [
       "(33694, 4340, 5727695, 'coordinate', 'integer', 'general')"
      ]
     },
     "execution_count": 40,
     "metadata": {},
     "output_type": "execute_result"
    }
   ],
   "source": [
    "from scipy.io import mminfo,mmread\n",
    "mminfo('GRCh38/matrix.mtx')"
   ]
  },
  {
   "cell_type": "code",
   "execution_count": 41,
   "metadata": {
    "collapsed": false
   },
   "outputs": [],
   "source": [
    "expression = scipy.io.mmread('GRCh38/matrix.mtx').todense()"
   ]
  },
  {
   "cell_type": "code",
   "execution_count": 45,
   "metadata": {
    "collapsed": false
   },
   "outputs": [],
   "source": [
    "expression = pd.DataFrame(expression)"
   ]
  },
  {
   "cell_type": "code",
   "execution_count": 47,
   "metadata": {
    "collapsed": false
   },
   "outputs": [
    {
     "data": {
      "text/plain": [
       "((33694, 4340), (33694, 2), (4340, 1))"
      ]
     },
     "execution_count": 47,
     "metadata": {},
     "output_type": "execute_result"
    }
   ],
   "source": [
    "expression.shape, genes.shape, barcodes.shape"
   ]
  },
  {
   "cell_type": "code",
   "execution_count": 52,
   "metadata": {
    "collapsed": true
   },
   "outputs": [],
   "source": [
    "expression.index = genes[1].values"
   ]
  },
  {
   "cell_type": "code",
   "execution_count": 54,
   "metadata": {
    "collapsed": false
   },
   "outputs": [],
   "source": [
    "expression.columns = barcodes[0].values"
   ]
  },
  {
   "cell_type": "code",
   "execution_count": 64,
   "metadata": {
    "collapsed": false
   },
   "outputs": [
    {
     "data": {
      "text/html": [
       "<div>\n",
       "<style>\n",
       "    .dataframe thead tr:only-child th {\n",
       "        text-align: right;\n",
       "    }\n",
       "\n",
       "    .dataframe thead th {\n",
       "        text-align: left;\n",
       "    }\n",
       "\n",
       "    .dataframe tbody tr th {\n",
       "        vertical-align: top;\n",
       "    }\n",
       "</style>\n",
       "<table border=\"1\" class=\"dataframe\">\n",
       "  <thead>\n",
       "    <tr style=\"text-align: right;\">\n",
       "      <th></th>\n",
       "      <th>AAACCTGAGAAGGCCT-1</th>\n",
       "      <th>AAACCTGAGACAGACC-1</th>\n",
       "      <th>AAACCTGAGATAGTCA-1</th>\n",
       "      <th>AAACCTGAGCGCCTCA-1</th>\n",
       "      <th>AAACCTGAGGCATGGT-1</th>\n",
       "      <th>AAACCTGCAAGGTTCT-1</th>\n",
       "      <th>AAACCTGCAGGATTGG-1</th>\n",
       "      <th>AAACCTGCAGGCGATA-1</th>\n",
       "      <th>AAACCTGCATCCCATC-1</th>\n",
       "      <th>AAACCTGCATGAAGTA-1</th>\n",
       "      <th>...</th>\n",
       "      <th>TTTGGTTCACTTAAGC-1</th>\n",
       "      <th>TTTGGTTCAGGACGTA-1</th>\n",
       "      <th>TTTGGTTCATGCCTAA-1</th>\n",
       "      <th>TTTGGTTCATTGGCGC-1</th>\n",
       "      <th>TTTGGTTGTTATCACG-1</th>\n",
       "      <th>TTTGGTTTCGCTAGCG-1</th>\n",
       "      <th>TTTGTCACACTTAACG-1</th>\n",
       "      <th>TTTGTCACAGGTCCAC-1</th>\n",
       "      <th>TTTGTCAGTTAAGACA-1</th>\n",
       "      <th>TTTGTCATCCCAAGAT-1</th>\n",
       "    </tr>\n",
       "  </thead>\n",
       "  <tbody>\n",
       "    <tr>\n",
       "      <th>RP11-34P13.3</th>\n",
       "      <td>0</td>\n",
       "      <td>0</td>\n",
       "      <td>0</td>\n",
       "      <td>0</td>\n",
       "      <td>0</td>\n",
       "      <td>0</td>\n",
       "      <td>0</td>\n",
       "      <td>0</td>\n",
       "      <td>0</td>\n",
       "      <td>0</td>\n",
       "      <td>...</td>\n",
       "      <td>0</td>\n",
       "      <td>0</td>\n",
       "      <td>0</td>\n",
       "      <td>0</td>\n",
       "      <td>0</td>\n",
       "      <td>0</td>\n",
       "      <td>0</td>\n",
       "      <td>0</td>\n",
       "      <td>0</td>\n",
       "      <td>0</td>\n",
       "    </tr>\n",
       "    <tr>\n",
       "      <th>FAM138A</th>\n",
       "      <td>0</td>\n",
       "      <td>0</td>\n",
       "      <td>0</td>\n",
       "      <td>0</td>\n",
       "      <td>0</td>\n",
       "      <td>0</td>\n",
       "      <td>0</td>\n",
       "      <td>0</td>\n",
       "      <td>0</td>\n",
       "      <td>0</td>\n",
       "      <td>...</td>\n",
       "      <td>0</td>\n",
       "      <td>0</td>\n",
       "      <td>0</td>\n",
       "      <td>0</td>\n",
       "      <td>0</td>\n",
       "      <td>0</td>\n",
       "      <td>0</td>\n",
       "      <td>0</td>\n",
       "      <td>0</td>\n",
       "      <td>0</td>\n",
       "    </tr>\n",
       "    <tr>\n",
       "      <th>OR4F5</th>\n",
       "      <td>0</td>\n",
       "      <td>0</td>\n",
       "      <td>0</td>\n",
       "      <td>0</td>\n",
       "      <td>0</td>\n",
       "      <td>0</td>\n",
       "      <td>0</td>\n",
       "      <td>0</td>\n",
       "      <td>0</td>\n",
       "      <td>0</td>\n",
       "      <td>...</td>\n",
       "      <td>0</td>\n",
       "      <td>0</td>\n",
       "      <td>0</td>\n",
       "      <td>0</td>\n",
       "      <td>0</td>\n",
       "      <td>0</td>\n",
       "      <td>0</td>\n",
       "      <td>0</td>\n",
       "      <td>0</td>\n",
       "      <td>0</td>\n",
       "    </tr>\n",
       "    <tr>\n",
       "      <th>RP11-34P13.7</th>\n",
       "      <td>0</td>\n",
       "      <td>0</td>\n",
       "      <td>0</td>\n",
       "      <td>0</td>\n",
       "      <td>0</td>\n",
       "      <td>0</td>\n",
       "      <td>0</td>\n",
       "      <td>0</td>\n",
       "      <td>0</td>\n",
       "      <td>0</td>\n",
       "      <td>...</td>\n",
       "      <td>0</td>\n",
       "      <td>0</td>\n",
       "      <td>0</td>\n",
       "      <td>0</td>\n",
       "      <td>0</td>\n",
       "      <td>0</td>\n",
       "      <td>0</td>\n",
       "      <td>0</td>\n",
       "      <td>0</td>\n",
       "      <td>0</td>\n",
       "    </tr>\n",
       "    <tr>\n",
       "      <th>RP11-34P13.8</th>\n",
       "      <td>0</td>\n",
       "      <td>0</td>\n",
       "      <td>0</td>\n",
       "      <td>0</td>\n",
       "      <td>0</td>\n",
       "      <td>0</td>\n",
       "      <td>0</td>\n",
       "      <td>0</td>\n",
       "      <td>0</td>\n",
       "      <td>0</td>\n",
       "      <td>...</td>\n",
       "      <td>0</td>\n",
       "      <td>0</td>\n",
       "      <td>0</td>\n",
       "      <td>0</td>\n",
       "      <td>0</td>\n",
       "      <td>0</td>\n",
       "      <td>0</td>\n",
       "      <td>0</td>\n",
       "      <td>0</td>\n",
       "      <td>0</td>\n",
       "    </tr>\n",
       "  </tbody>\n",
       "</table>\n",
       "<p>5 rows × 4340 columns</p>\n",
       "</div>"
      ],
      "text/plain": [
       "              AAACCTGAGAAGGCCT-1  AAACCTGAGACAGACC-1  AAACCTGAGATAGTCA-1  \\\n",
       "RP11-34P13.3                   0                   0                   0   \n",
       "FAM138A                        0                   0                   0   \n",
       "OR4F5                          0                   0                   0   \n",
       "RP11-34P13.7                   0                   0                   0   \n",
       "RP11-34P13.8                   0                   0                   0   \n",
       "\n",
       "              AAACCTGAGCGCCTCA-1  AAACCTGAGGCATGGT-1  AAACCTGCAAGGTTCT-1  \\\n",
       "RP11-34P13.3                   0                   0                   0   \n",
       "FAM138A                        0                   0                   0   \n",
       "OR4F5                          0                   0                   0   \n",
       "RP11-34P13.7                   0                   0                   0   \n",
       "RP11-34P13.8                   0                   0                   0   \n",
       "\n",
       "              AAACCTGCAGGATTGG-1  AAACCTGCAGGCGATA-1  AAACCTGCATCCCATC-1  \\\n",
       "RP11-34P13.3                   0                   0                   0   \n",
       "FAM138A                        0                   0                   0   \n",
       "OR4F5                          0                   0                   0   \n",
       "RP11-34P13.7                   0                   0                   0   \n",
       "RP11-34P13.8                   0                   0                   0   \n",
       "\n",
       "              AAACCTGCATGAAGTA-1         ...          TTTGGTTCACTTAAGC-1  \\\n",
       "RP11-34P13.3                   0         ...                           0   \n",
       "FAM138A                        0         ...                           0   \n",
       "OR4F5                          0         ...                           0   \n",
       "RP11-34P13.7                   0         ...                           0   \n",
       "RP11-34P13.8                   0         ...                           0   \n",
       "\n",
       "              TTTGGTTCAGGACGTA-1  TTTGGTTCATGCCTAA-1  TTTGGTTCATTGGCGC-1  \\\n",
       "RP11-34P13.3                   0                   0                   0   \n",
       "FAM138A                        0                   0                   0   \n",
       "OR4F5                          0                   0                   0   \n",
       "RP11-34P13.7                   0                   0                   0   \n",
       "RP11-34P13.8                   0                   0                   0   \n",
       "\n",
       "              TTTGGTTGTTATCACG-1  TTTGGTTTCGCTAGCG-1  TTTGTCACACTTAACG-1  \\\n",
       "RP11-34P13.3                   0                   0                   0   \n",
       "FAM138A                        0                   0                   0   \n",
       "OR4F5                          0                   0                   0   \n",
       "RP11-34P13.7                   0                   0                   0   \n",
       "RP11-34P13.8                   0                   0                   0   \n",
       "\n",
       "              TTTGTCACAGGTCCAC-1  TTTGTCAGTTAAGACA-1  TTTGTCATCCCAAGAT-1  \n",
       "RP11-34P13.3                   0                   0                   0  \n",
       "FAM138A                        0                   0                   0  \n",
       "OR4F5                          0                   0                   0  \n",
       "RP11-34P13.7                   0                   0                   0  \n",
       "RP11-34P13.8                   0                   0                   0  \n",
       "\n",
       "[5 rows x 4340 columns]"
      ]
     },
     "execution_count": 64,
     "metadata": {},
     "output_type": "execute_result"
    }
   ],
   "source": [
    "expression.head(5)"
   ]
  },
  {
   "cell_type": "code",
   "execution_count": 62,
   "metadata": {
    "collapsed": false
   },
   "outputs": [
    {
     "data": {
      "text/plain": [
       "True"
      ]
     },
     "execution_count": 62,
     "metadata": {},
     "output_type": "execute_result"
    }
   ],
   "source": [
    "genes_tsne.gene.iloc[0] in expression.index"
   ]
  },
  {
   "cell_type": "code",
   "execution_count": 71,
   "metadata": {
    "collapsed": false
   },
   "outputs": [],
   "source": [
    "DATA = genes_tsne.join(expression)"
   ]
  },
  {
   "cell_type": "code",
   "execution_count": 72,
   "metadata": {
    "collapsed": true
   },
   "outputs": [],
   "source": [
    "DATA.fillna(0, inplace=True)"
   ]
  },
  {
   "cell_type": "code",
   "execution_count": 92,
   "metadata": {
    "collapsed": false
   },
   "outputs": [
    {
     "data": {
      "text/html": [
       "<div>\n",
       "<style>\n",
       "    .dataframe thead tr:only-child th {\n",
       "        text-align: right;\n",
       "    }\n",
       "\n",
       "    .dataframe thead th {\n",
       "        text-align: left;\n",
       "    }\n",
       "\n",
       "    .dataframe tbody tr th {\n",
       "        vertical-align: top;\n",
       "    }\n",
       "</style>\n",
       "<table border=\"1\" class=\"dataframe\">\n",
       "  <thead>\n",
       "    <tr style=\"text-align: right;\">\n",
       "      <th></th>\n",
       "      <th>p_val</th>\n",
       "      <th>avg_diff</th>\n",
       "      <th>pct.1</th>\n",
       "      <th>pct.2</th>\n",
       "      <th>cluster</th>\n",
       "      <th>gene</th>\n",
       "      <th>AAACCTGAGAAGGCCT-1</th>\n",
       "      <th>AAACCTGAGACAGACC-1</th>\n",
       "      <th>AAACCTGAGATAGTCA-1</th>\n",
       "      <th>AAACCTGAGCGCCTCA-1</th>\n",
       "      <th>...</th>\n",
       "      <th>TTTGGTTCACTTAAGC-1</th>\n",
       "      <th>TTTGGTTCAGGACGTA-1</th>\n",
       "      <th>TTTGGTTCATGCCTAA-1</th>\n",
       "      <th>TTTGGTTCATTGGCGC-1</th>\n",
       "      <th>TTTGGTTGTTATCACG-1</th>\n",
       "      <th>TTTGGTTTCGCTAGCG-1</th>\n",
       "      <th>TTTGTCACACTTAACG-1</th>\n",
       "      <th>TTTGTCACAGGTCCAC-1</th>\n",
       "      <th>TTTGTCAGTTAAGACA-1</th>\n",
       "      <th>TTTGTCATCCCAAGAT-1</th>\n",
       "    </tr>\n",
       "  </thead>\n",
       "  <tbody>\n",
       "    <tr>\n",
       "      <th>A1BG</th>\n",
       "      <td>2.84692e-11</td>\n",
       "      <td>0.653947</td>\n",
       "      <td>0.719</td>\n",
       "      <td>0.167</td>\n",
       "      <td>5</td>\n",
       "      <td>A1BG</td>\n",
       "      <td>0</td>\n",
       "      <td>0</td>\n",
       "      <td>0</td>\n",
       "      <td>0</td>\n",
       "      <td>...</td>\n",
       "      <td>0</td>\n",
       "      <td>2</td>\n",
       "      <td>0</td>\n",
       "      <td>1</td>\n",
       "      <td>0</td>\n",
       "      <td>0</td>\n",
       "      <td>0</td>\n",
       "      <td>0</td>\n",
       "      <td>0</td>\n",
       "      <td>0</td>\n",
       "    </tr>\n",
       "    <tr>\n",
       "      <th>AAK1</th>\n",
       "      <td>7.53945e-74</td>\n",
       "      <td>0.472886</td>\n",
       "      <td>0.544</td>\n",
       "      <td>0.252</td>\n",
       "      <td>0</td>\n",
       "      <td>AAK1</td>\n",
       "      <td>0</td>\n",
       "      <td>0</td>\n",
       "      <td>0</td>\n",
       "      <td>0</td>\n",
       "      <td>...</td>\n",
       "      <td>0</td>\n",
       "      <td>0</td>\n",
       "      <td>1</td>\n",
       "      <td>0</td>\n",
       "      <td>0</td>\n",
       "      <td>1</td>\n",
       "      <td>1</td>\n",
       "      <td>5</td>\n",
       "      <td>0</td>\n",
       "      <td>0</td>\n",
       "    </tr>\n",
       "    <tr>\n",
       "      <th>AAMDC</th>\n",
       "      <td>1.59048e-11</td>\n",
       "      <td>0.301346</td>\n",
       "      <td>0.312</td>\n",
       "      <td>0.038</td>\n",
       "      <td>5</td>\n",
       "      <td>AAMDC</td>\n",
       "      <td>0</td>\n",
       "      <td>0</td>\n",
       "      <td>0</td>\n",
       "      <td>0</td>\n",
       "      <td>...</td>\n",
       "      <td>0</td>\n",
       "      <td>0</td>\n",
       "      <td>0</td>\n",
       "      <td>0</td>\n",
       "      <td>0</td>\n",
       "      <td>1</td>\n",
       "      <td>0</td>\n",
       "      <td>0</td>\n",
       "      <td>0</td>\n",
       "      <td>0</td>\n",
       "    </tr>\n",
       "    <tr>\n",
       "      <th>ABHD15</th>\n",
       "      <td>8.82833e-14</td>\n",
       "      <td>0.58509</td>\n",
       "      <td>0.438</td>\n",
       "      <td>0.024</td>\n",
       "      <td>5</td>\n",
       "      <td>ABHD15</td>\n",
       "      <td>0</td>\n",
       "      <td>0</td>\n",
       "      <td>0</td>\n",
       "      <td>0</td>\n",
       "      <td>...</td>\n",
       "      <td>0</td>\n",
       "      <td>0</td>\n",
       "      <td>0</td>\n",
       "      <td>0</td>\n",
       "      <td>0</td>\n",
       "      <td>0</td>\n",
       "      <td>0</td>\n",
       "      <td>0</td>\n",
       "      <td>0</td>\n",
       "      <td>0</td>\n",
       "    </tr>\n",
       "    <tr>\n",
       "      <th>ABHD17A1</th>\n",
       "      <td>1.6543e-29</td>\n",
       "      <td>0.463202</td>\n",
       "      <td>0.406</td>\n",
       "      <td>0.19</td>\n",
       "      <td>3</td>\n",
       "      <td>ABHD17A</td>\n",
       "      <td>0</td>\n",
       "      <td>0</td>\n",
       "      <td>0</td>\n",
       "      <td>0</td>\n",
       "      <td>...</td>\n",
       "      <td>0</td>\n",
       "      <td>0</td>\n",
       "      <td>0</td>\n",
       "      <td>0</td>\n",
       "      <td>0</td>\n",
       "      <td>0</td>\n",
       "      <td>0</td>\n",
       "      <td>0</td>\n",
       "      <td>0</td>\n",
       "      <td>0</td>\n",
       "    </tr>\n",
       "  </tbody>\n",
       "</table>\n",
       "<p>5 rows × 4346 columns</p>\n",
       "</div>"
      ],
      "text/plain": [
       "                p_val  avg_diff  pct.1  pct.2 cluster     gene  \\\n",
       "A1BG      2.84692e-11  0.653947  0.719  0.167       5     A1BG   \n",
       "AAK1      7.53945e-74  0.472886  0.544  0.252       0     AAK1   \n",
       "AAMDC     1.59048e-11  0.301346  0.312  0.038       5    AAMDC   \n",
       "ABHD15    8.82833e-14   0.58509  0.438  0.024       5   ABHD15   \n",
       "ABHD17A1   1.6543e-29  0.463202  0.406   0.19       3  ABHD17A   \n",
       "\n",
       "         AAACCTGAGAAGGCCT-1 AAACCTGAGACAGACC-1 AAACCTGAGATAGTCA-1  \\\n",
       "A1BG                      0                  0                  0   \n",
       "AAK1                      0                  0                  0   \n",
       "AAMDC                     0                  0                  0   \n",
       "ABHD15                    0                  0                  0   \n",
       "ABHD17A1                  0                  0                  0   \n",
       "\n",
       "         AAACCTGAGCGCCTCA-1        ...         TTTGGTTCACTTAAGC-1  \\\n",
       "A1BG                      0        ...                          0   \n",
       "AAK1                      0        ...                          0   \n",
       "AAMDC                     0        ...                          0   \n",
       "ABHD15                    0        ...                          0   \n",
       "ABHD17A1                  0        ...                          0   \n",
       "\n",
       "         TTTGGTTCAGGACGTA-1 TTTGGTTCATGCCTAA-1 TTTGGTTCATTGGCGC-1  \\\n",
       "A1BG                      2                  0                  1   \n",
       "AAK1                      0                  1                  0   \n",
       "AAMDC                     0                  0                  0   \n",
       "ABHD15                    0                  0                  0   \n",
       "ABHD17A1                  0                  0                  0   \n",
       "\n",
       "         TTTGGTTGTTATCACG-1 TTTGGTTTCGCTAGCG-1 TTTGTCACACTTAACG-1  \\\n",
       "A1BG                      0                  0                  0   \n",
       "AAK1                      0                  1                  1   \n",
       "AAMDC                     0                  1                  0   \n",
       "ABHD15                    0                  0                  0   \n",
       "ABHD17A1                  0                  0                  0   \n",
       "\n",
       "         TTTGTCACAGGTCCAC-1 TTTGTCAGTTAAGACA-1 TTTGTCATCCCAAGAT-1  \n",
       "A1BG                      0                  0                  0  \n",
       "AAK1                      5                  0                  0  \n",
       "AAMDC                     0                  0                  0  \n",
       "ABHD15                    0                  0                  0  \n",
       "ABHD17A1                  0                  0                  0  \n",
       "\n",
       "[5 rows x 4346 columns]"
      ]
     },
     "execution_count": 92,
     "metadata": {},
     "output_type": "execute_result"
    }
   ],
   "source": [
    "DATA.head()"
   ]
  },
  {
   "cell_type": "code",
   "execution_count": 95,
   "metadata": {
    "collapsed": true
   },
   "outputs": [],
   "source": [
    "cell = \"TTTGGTTCAGGACGTA-1\"\n",
    "grp = DATA[[cell, \"cluster\"]][DATA[cell]!=0].groupby('cluster').sum()"
   ]
  },
  {
   "cell_type": "code",
   "execution_count": 96,
   "metadata": {
    "collapsed": false,
    "deletable": true,
    "editable": true
   },
   "outputs": [
    {
     "data": {
      "text/html": [
       "<div>\n",
       "<style>\n",
       "    .dataframe thead tr:only-child th {\n",
       "        text-align: right;\n",
       "    }\n",
       "\n",
       "    .dataframe thead th {\n",
       "        text-align: left;\n",
       "    }\n",
       "\n",
       "    .dataframe tbody tr th {\n",
       "        vertical-align: top;\n",
       "    }\n",
       "</style>\n",
       "<table border=\"1\" class=\"dataframe\">\n",
       "  <thead>\n",
       "    <tr style=\"text-align: right;\">\n",
       "      <th></th>\n",
       "      <th>TTTGGTTCAGGACGTA-1</th>\n",
       "    </tr>\n",
       "    <tr>\n",
       "      <th>cluster</th>\n",
       "      <th></th>\n",
       "    </tr>\n",
       "  </thead>\n",
       "  <tbody>\n",
       "    <tr>\n",
       "      <th>0</th>\n",
       "      <td>134.0</td>\n",
       "    </tr>\n",
       "    <tr>\n",
       "      <th>1</th>\n",
       "      <td>133.0</td>\n",
       "    </tr>\n",
       "    <tr>\n",
       "      <th>2</th>\n",
       "      <td>25.0</td>\n",
       "    </tr>\n",
       "    <tr>\n",
       "      <th>3</th>\n",
       "      <td>30.0</td>\n",
       "    </tr>\n",
       "    <tr>\n",
       "      <th>4</th>\n",
       "      <td>129.0</td>\n",
       "    </tr>\n",
       "    <tr>\n",
       "      <th>5</th>\n",
       "      <td>101.0</td>\n",
       "    </tr>\n",
       "  </tbody>\n",
       "</table>\n",
       "</div>"
      ],
      "text/plain": [
       "         TTTGGTTCAGGACGTA-1\n",
       "cluster                    \n",
       "0                     134.0\n",
       "1                     133.0\n",
       "2                      25.0\n",
       "3                      30.0\n",
       "4                     129.0\n",
       "5                     101.0"
      ]
     },
     "execution_count": 96,
     "metadata": {},
     "output_type": "execute_result"
    }
   ],
   "source": [
    "grp"
   ]
  },
  {
   "cell_type": "code",
   "execution_count": null,
   "metadata": {
    "collapsed": true
   },
   "outputs": [],
   "source": []
  }
 ],
 "metadata": {
  "anaconda-cloud": {},
  "kernelspec": {
   "display_name": "Python 2",
   "language": "python",
   "name": "python2"
  },
  "language_info": {
   "codemirror_mode": {
    "name": "ipython",
    "version": 2
   },
   "file_extension": ".py",
   "mimetype": "text/x-python",
   "name": "python",
   "nbconvert_exporter": "python",
   "pygments_lexer": "ipython2",
   "version": "2.7.12"
  }
 },
 "nbformat": 4,
 "nbformat_minor": 0
}
