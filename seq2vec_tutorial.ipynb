{
 "cells": [
  {
   "cell_type": "code",
   "execution_count": 1,
   "metadata": {
    "collapsed": true
   },
   "outputs": [],
   "source": [
    "import sys\n",
    "sys.path.append('/Users/dmitrys/anaconda2/lib/python2.7/site-packages')"
   ]
  },
  {
   "cell_type": "code",
   "execution_count": 9,
   "metadata": {
    "collapsed": false
   },
   "outputs": [],
   "source": [
    "import pandas as pd\n",
    "import numpy as np\n",
    "import tensorflow as tf\n",
    "\n",
    "import os\n",
    "from sklearn.manifold import TSNE\n",
    "import matplotlib.pyplot as plt\n",
    "from gensim.models import word2vec # using tensorflow backend'\n",
    "import logging\n",
    "#import xgboost as xgb\n",
    "from sklearn.metrics import accuracy_score"
   ]
  },
  {
   "cell_type": "code",
   "execution_count": null,
   "metadata": {
    "collapsed": true
   },
   "outputs": [],
   "source": [
    "seq_df = pd.read_table('data/family_classification_sequences.tab')\n",
    "seq_df.head()"
   ]
  },
  {
   "cell_type": "code",
   "execution_count": null,
   "metadata": {
    "collapsed": true
   },
   "outputs": [],
   "source": [
    "def getTrigrams(sequence):\n",
    "    n = 3\n",
    "    line = [sequence[i:i+n] for i in range(0, len(sequence), n)]\n",
    "    line.extend([sequence[i+1:i+1+n] for i in range(0, len(sequence), n)])\n",
    "    line.extend([sequence[i+2:i+2+n] for i in range(0, len(sequence), n)])\n",
    "    line = [x for x in line if len(x)==3]\n",
    "    return line"
   ]
  },
  {
   "cell_type": "code",
   "execution_count": null,
   "metadata": {
    "collapsed": true
   },
   "outputs": [],
   "source": [
    "all_trigrams = [getTrigrams(sequence) for sequence in seq_df.Sequences[0:10000]]"
   ]
  },
  {
   "cell_type": "code",
   "execution_count": null,
   "metadata": {
    "collapsed": true
   },
   "outputs": [],
   "source": [
    "logging.basicConfig(format='%(asctime)s : %(levelname)s : %(message)s', level=logging.INFO)\n",
    "\n",
    "skip_gram = 1  # skip-gram = 1, cbow = 0\n",
    "num_features = 30  # Word vector dimensionality\n",
    "context = 25  # Context window size\n",
    "num_workers = 1\n",
    "model = word2vec.Word2Vec(all_trigrams, sg=skip_gram, negative=5, workers=num_workers, size=num_features)"
   ]
  },
  {
   "cell_type": "code",
   "execution_count": null,
   "metadata": {
    "collapsed": true
   },
   "outputs": [],
   "source": [
    "vocab = model.wv.vocab\n",
    "final_embed_matrix = np.matrix([model.wv[key] for key in vocab])"
   ]
  },
  {
   "cell_type": "code",
   "execution_count": null,
   "metadata": {
    "collapsed": true
   },
   "outputs": [],
   "source": [
    "tsne = TSNE(n_components=2)\n",
    "X = tsne.fit_transform(final_embed_matrix)"
   ]
  },
  {
   "cell_type": "code",
   "execution_count": null,
   "metadata": {
    "collapsed": true
   },
   "outputs": [],
   "source": [
    "tsne_df = pd.DataFrame(XX, columns=['x0', 'x1'])\n",
    "tsne_df['codone'] = model.wv.vocab.keys()\n",
    "tsne_df.head()"
   ]
  },
  {
   "cell_type": "code",
   "execution_count": null,
   "metadata": {
    "collapsed": true
   },
   "outputs": [],
   "source": [
    "plt.figure(figsize=(15, 10))\n",
    "plt.title('unlabeled encoding', fontsize=20)\n",
    "plt.scatter(tsne_df.x0, tsne_df.x1, s=10)\n",
    "plt.show()"
   ]
  },
  {
   "cell_type": "code",
   "execution_count": null,
   "metadata": {
    "collapsed": true
   },
   "outputs": [],
   "source": [
    "properties = pd.read_csv('trigrams_properties.csv', index_col=0)\n",
    "properties.head()"
   ]
  },
  {
   "cell_type": "code",
   "execution_count": null,
   "metadata": {
    "collapsed": true
   },
   "outputs": [],
   "source": [
    "from sklearn.preprocessing import MinMaxScaler\n",
    "scaler = MinMaxScaler()\n",
    "properties[['hydrophobicity', 'mass', 'number_of_atoms', 'volume']] = \\\n",
    "scaler.fit_transform(properties[['hydrophobicity', 'mass', 'number_of_atoms', 'volume']])"
   ]
  },
  {
   "cell_type": "code",
   "execution_count": null,
   "metadata": {
    "collapsed": true
   },
   "outputs": [],
   "source": [
    "import matplotlib.cm as cm\n",
    "plt.figure(figsize=(25, 20))\n",
    "for i, p in enumerate(['hydrophobicity', 'mass', 'number_of_atoms', 'volume']):\n",
    "    plt.subplot(2,2,i+1)\n",
    "    plt.title(p, fontsize=25)\n",
    "    plt.scatter(tsne_df.x0, tsne_df.x1, s=10, c=cm.jet(properties[p]))\n",
    "            \n",
    "plt.show()"
   ]
  },
  {
   "cell_type": "code",
   "execution_count": null,
   "metadata": {
    "collapsed": true
   },
   "outputs": [],
   "source": [
    "nice_embed_tsne = pd.read_csv(\"data/nice_embed_tsne.csv\")\n",
    "\n",
    "import matplotlib.cm as cm\n",
    "plt.figure(figsize=(25, 20))\n",
    "for i, p in enumerate(['hydrophobicity', 'mass', 'number_of_atoms', 'volume']):\n",
    "    plt.subplot(2,2,i+1)\n",
    "    plt.title(p, fontsize=25)\n",
    "    plt.scatter(nice_embed_tsne[\"0\"], nice_embed_tsne[\"1\"], s=10, c=cm.jet(properties[p]))\n",
    "            \n",
    "plt.show()"
   ]
  },
  {
   "cell_type": "code",
   "execution_count": null,
   "metadata": {
    "collapsed": true
   },
   "outputs": [],
   "source": [
    "from sklearn.model_selection import train_test_split"
   ]
  },
  {
   "cell_type": "code",
   "execution_count": null,
   "metadata": {
    "collapsed": true
   },
   "outputs": [],
   "source": [
    "families = pd.read_csv(\"data/family_classification_metadata.tab\", sep=\"\\t\")\n",
    "families.head()"
   ]
  },
  {
   "cell_type": "code",
   "execution_count": null,
   "metadata": {
    "collapsed": true
   },
   "outputs": [],
   "source": [
    "families[\"y\"] = 0\n",
    "families[\"y\"][families.FamilyDescription.isin(['50S ribosome-binding GTPase' ])] = 1\n",
    "\n",
    "subset_neg = families[families.y==0].sample(n=4000)\n",
    "subset_pos = families[families.y==1]\n",
    "\n",
    "target = pd.concat([subset_neg.y, subset_pos.y])\n",
    "sequence_sample = seq_df[seq_df.index.isin(target.index)]\n",
    "sequence_sample.head()\n",
    "trigrams = [getTrigrams(sequence) for sequence in sequence_sample.Sequences]"
   ]
  },
  {
   "cell_type": "code",
   "execution_count": null,
   "metadata": {
    "collapsed": true
   },
   "outputs": [],
   "source": [
    "for i, seq in enumerate(trigrams):    \n",
    "    for j, trig in enumerate(seq):\n",
    "        try:\n",
    "            trigrams[i][j] = model.wv[trig]\n",
    "        except:\n",
    "            trigrams[i].remove(trig)\n",
    "\n",
    "ready = [0]*len(trigrams)\n",
    "\n",
    "for i, vec in enumerate(trigrams):\n",
    "    try:\n",
    "        ready[i] = np.mean(vec, axis=1)\n",
    "    except:\n",
    "        ready[i] = [0]*30"
   ]
  },
  {
   "cell_type": "code",
   "execution_count": null,
   "metadata": {
    "collapsed": true
   },
   "outputs": [],
   "source": [
    "X = pd.DataFrame(ready)\n",
    "X = X.loc[:, 0:30]\n",
    "X.index = target.index\n",
    "from sklearn.model_selection import train_test_split\n",
    "X_train, X_test, y_train, y_test = train_test_split(X, target, test_size = 0.3,random_state=7)"
   ]
  },
  {
   "cell_type": "code",
   "execution_count": null,
   "metadata": {
    "collapsed": true
   },
   "outputs": [],
   "source": [
    "clf = xgb.XGBClassifier()\n",
    "clf.fit(X_train, y_train)\n",
    "pred = clf.predict(X_test)\n",
    "accuracy_score(y_test, pred)"
   ]
  },
  {
   "cell_type": "code",
   "execution_count": null,
   "metadata": {
    "collapsed": true
   },
   "outputs": [],
   "source": [
    "from sklearn.metrics import accuracy_score, roc_curve, roc_auc_score, confusion_matrix, log_loss,auc\n",
    "def plot_roc_curve(predictions, yval):\n",
    "    try:\n",
    "        preds = predictions[:,1]\n",
    "    except:\n",
    "        preds = np.array(predictions)\n",
    "    fpr, tpr, threshold = roc_curve(yval, preds)\n",
    "    roc_auc = auc(fpr, tpr)\n",
    "    with plt.rc_context({'xtick.color':'white', 'ytick.color':'white',\n",
    "                     'axes.labelcolor':'white'}):\n",
    "        plt.title('Receiver Operating Characteristic')\n",
    "        plt.plot(fpr, tpr, 'b', label = 'AUC = %0.2f' % roc_auc)\n",
    "        plt.legend(loc = 'lower right')\n",
    "        plt.plot([0, 1], [0, 1],'r--')\n",
    "        plt.xlim([0, 1])\n",
    "        plt.ylim([0, 1])\n",
    "        plt.ylabel('True Positive Rate')\n",
    "        plt.xlabel('False Positive Rate')\n",
    "        plt.grid(True)\n",
    "        plt.show()"
   ]
  }
 ],
 "metadata": {
  "anaconda-cloud": {},
  "kernelspec": {
   "display_name": "Python 2",
   "language": "python",
   "name": "python2"
  },
  "language_info": {
   "codemirror_mode": {
    "name": "ipython",
    "version": 2
   },
   "file_extension": ".py",
   "mimetype": "text/x-python",
   "name": "python",
   "nbconvert_exporter": "python",
   "pygments_lexer": "ipython2",
   "version": "2.7.12"
  }
 },
 "nbformat": 4,
 "nbformat_minor": 0
}
